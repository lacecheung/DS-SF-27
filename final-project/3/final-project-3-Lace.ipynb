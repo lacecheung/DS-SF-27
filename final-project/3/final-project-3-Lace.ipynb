{
 "cells": [
  {
   "cell_type": "markdown",
   "metadata": {},
   "source": [
    "# DS-SF-27 | Final Project 3: Speed Dating Experiment "
   ]
  },
  {
   "cell_type": "markdown",
   "metadata": {},
   "source": [
    "### Description of Data:"
   ]
  },
  {
   "cell_type": "markdown",
   "metadata": {},
   "source": [
    "Data was gathered from participants in experimental speed dating events from 2002-2004. During the events, the attendees would have a four minute \"first date\" with every other participant of the opposite sex. At the end of their four minutes, participants were asked if they would like to see their date again. They were also asked to rate their date on six attributes: Attractiveness, Sincerity, Intelligence, Fun, Ambition, and Shared Interests. \n",
    "\n",
    "The dataset also includes questionnaire data gathered from participants at different points in the process. These fields include: demographics, dating habits, self-perception across key attributes, beliefs on what others find valuable in a mate, and lifestyle information. \n",
    "\n",
    "There are two primary sources for the data set:\n",
    "\n",
    "Survey based: \n",
    "   - 1) comprehensive survey filled out during the registration process - gathers participant interests and demographics, \n",
    "   - 2) scorecard filled out after each 'date' during the event - collects scores for their dates and Yes / No decision, \n",
    "   - 3) half way through meeting all potential dates during the night of the event - to understand what particopants look for in their dates,\n",
    "   - 4) survey filled out day after the event - feedback on the event and self reflection,\n",
    "\n",
    "\n",
    "Meta data describing the speed dating event: \n",
    "- order of the date \n",
    "- wave number"
   ]
  },
  {
   "cell_type": "markdown",
   "metadata": {},
   "source": [
    "### Problem Statement:"
   ]
  },
  {
   "cell_type": "markdown",
   "metadata": {},
   "source": [
    "The goal of this analysis is to predict what the outcome of a speed date is (is the subject interested in seeing their date again).\n",
    "\n",
    "- Dependant variable: Yes / No decision (\"dec\", 1=yes, 0=no)\n",
    "\n",
    "- Selected independant variables: \n",
    "    - order of date (\"order\")\n",
    "    - Same race (\"samerace\")\n",
    "    - subject's stated importance of being the same race as partner (\"imprace\")\n",
    "    - subect age (\"age\")\n",
    "    - age of parter (\"age_o\")\n",
    "    - subject's score for partner for each of 6 attributes (Attractiveness: \"attr\", Sincerity: \"sinc\", Intelligence: \"intel\", Fun: \"fun\", Ambition: \"amb\", Shared interest / hobbis: \"shar\")\n",
    "    - how much did subject like partner (\"like\")\n",
    "    - subject's guess of prob that partner says 'yes' for subject (\"prob\")\n",
    "    - has subject met partner before (\"met\")\n",
    "  \n",
    "- Groupby: \n",
    "    - gender (\"gender\", 0 = female, 1 = male)  \n",
    "    "
   ]
  },
  {
   "cell_type": "markdown",
   "metadata": {},
   "source": [
    "- dedup: drop_duplicate\n",
    "- center and scale: remember to center and scale the data. first subtract, and then divide\n",
    "- transform data set: add new columns for pid rating on iid. then remove all columns where iid < pid"
   ]
  },
  {
   "cell_type": "markdown",
   "metadata": {},
   "source": [
    "### Data Dictionary"
   ]
  },
  {
   "cell_type": "markdown",
   "metadata": {},
   "source": [
    "- wave: wave number\n",
    "- iid: \tunique subject number, group(wave id gender)\n",
    "- gender:\tFemale=0 Male=1\n",
    "- pid: \t\tpartner’s iid number\n",
    "- age: subject's age\n",
    "- age_o: subject's date's age\n",
    "- dec: decision - does the subject want to see the date again? (Yes = 1, No = 0)\n",
    "- order: The number of date that night when met \n",
    "- samerace:  \tparticipant and the partner were the same race. 1= yes, 0=no\n",
    "- imprace:\timportance to subject of their partner being the same race\t\n",
    "- intel: subject's score of their date's intelligence (from 1 - 10, 10 being highest)\n",
    "- fun: subject's score of their date's fun (from 1 - 10, 10 being highest)\n",
    "- amb: subject's score of their date's ambition (from 1 - 10, 10 being highest)\n",
    "- attr: subject's score of their date's attractiveness (from 1 - 10, 10 being highest)\n",
    "- shar: subject's score of their date's shared interests (from 1 - 10, 10 being highest)\n",
    "- sinc: subject's score of their date's sincerity (from 1 - 10, 10 being highest)\n",
    "- like: Overall, how much does the subject like their date (1=don't like at all, 10=like a lot)\n",
    "- prob: From the subject's perspective, how likely is it that their date will say yes for them ((1=not probable, 10=extremely probable)\n",
    "- met: Did the subject meet their date before? (1=yes 2=no)\n",
    "\n"
   ]
  },
  {
   "cell_type": "markdown",
   "metadata": {},
   "source": [
    "### 1) Loading Python libraries"
   ]
  },
  {
   "cell_type": "code",
   "execution_count": 52,
   "metadata": {
    "collapsed": false
   },
   "outputs": [],
   "source": [
    "import os\n",
    "import pandas as pd\n",
    "import matplotlib.pyplot as plt\n",
    "import seaborn as sns\n",
    "import statsmodels.api as sm\n",
    "\n",
    "pd.set_option('display.max_rows', 50)\n",
    "pd.set_option('display.max_columns', 20)\n",
    "pd.set_option('display.notebook_repr_html', True)\n",
    "\n",
    "import matplotlib.pyplot as plt\n",
    "%matplotlib inline\n",
    "plt.style.use('ggplot')"
   ]
  },
  {
   "cell_type": "markdown",
   "metadata": {},
   "source": [
    "### 2) Select relevant columns:"
   ]
  },
  {
   "cell_type": "code",
   "execution_count": 53,
   "metadata": {
    "collapsed": false
   },
   "outputs": [
    {
     "data": {
      "text/html": [
       "<div>\n",
       "<table border=\"1\" class=\"dataframe\">\n",
       "  <thead>\n",
       "    <tr style=\"text-align: right;\">\n",
       "      <th></th>\n",
       "      <th>iid</th>\n",
       "      <th>id</th>\n",
       "      <th>gender</th>\n",
       "      <th>idg</th>\n",
       "      <th>condtn</th>\n",
       "      <th>wave</th>\n",
       "      <th>round</th>\n",
       "      <th>position</th>\n",
       "      <th>positin1</th>\n",
       "      <th>order</th>\n",
       "      <th>...</th>\n",
       "      <th>attr3_3</th>\n",
       "      <th>sinc3_3</th>\n",
       "      <th>intel3_3</th>\n",
       "      <th>fun3_3</th>\n",
       "      <th>amb3_3</th>\n",
       "      <th>attr5_3</th>\n",
       "      <th>sinc5_3</th>\n",
       "      <th>intel5_3</th>\n",
       "      <th>fun5_3</th>\n",
       "      <th>amb5_3</th>\n",
       "    </tr>\n",
       "  </thead>\n",
       "  <tbody>\n",
       "    <tr>\n",
       "      <th>0</th>\n",
       "      <td>1</td>\n",
       "      <td>1.0</td>\n",
       "      <td>0</td>\n",
       "      <td>1</td>\n",
       "      <td>1</td>\n",
       "      <td>1</td>\n",
       "      <td>10</td>\n",
       "      <td>7</td>\n",
       "      <td>NaN</td>\n",
       "      <td>4</td>\n",
       "      <td>...</td>\n",
       "      <td>5.0</td>\n",
       "      <td>7.0</td>\n",
       "      <td>7.0</td>\n",
       "      <td>7.0</td>\n",
       "      <td>7.0</td>\n",
       "      <td>NaN</td>\n",
       "      <td>NaN</td>\n",
       "      <td>NaN</td>\n",
       "      <td>NaN</td>\n",
       "      <td>NaN</td>\n",
       "    </tr>\n",
       "    <tr>\n",
       "      <th>1</th>\n",
       "      <td>1</td>\n",
       "      <td>1.0</td>\n",
       "      <td>0</td>\n",
       "      <td>1</td>\n",
       "      <td>1</td>\n",
       "      <td>1</td>\n",
       "      <td>10</td>\n",
       "      <td>7</td>\n",
       "      <td>NaN</td>\n",
       "      <td>3</td>\n",
       "      <td>...</td>\n",
       "      <td>5.0</td>\n",
       "      <td>7.0</td>\n",
       "      <td>7.0</td>\n",
       "      <td>7.0</td>\n",
       "      <td>7.0</td>\n",
       "      <td>NaN</td>\n",
       "      <td>NaN</td>\n",
       "      <td>NaN</td>\n",
       "      <td>NaN</td>\n",
       "      <td>NaN</td>\n",
       "    </tr>\n",
       "    <tr>\n",
       "      <th>2</th>\n",
       "      <td>1</td>\n",
       "      <td>1.0</td>\n",
       "      <td>0</td>\n",
       "      <td>1</td>\n",
       "      <td>1</td>\n",
       "      <td>1</td>\n",
       "      <td>10</td>\n",
       "      <td>7</td>\n",
       "      <td>NaN</td>\n",
       "      <td>10</td>\n",
       "      <td>...</td>\n",
       "      <td>5.0</td>\n",
       "      <td>7.0</td>\n",
       "      <td>7.0</td>\n",
       "      <td>7.0</td>\n",
       "      <td>7.0</td>\n",
       "      <td>NaN</td>\n",
       "      <td>NaN</td>\n",
       "      <td>NaN</td>\n",
       "      <td>NaN</td>\n",
       "      <td>NaN</td>\n",
       "    </tr>\n",
       "    <tr>\n",
       "      <th>3</th>\n",
       "      <td>1</td>\n",
       "      <td>1.0</td>\n",
       "      <td>0</td>\n",
       "      <td>1</td>\n",
       "      <td>1</td>\n",
       "      <td>1</td>\n",
       "      <td>10</td>\n",
       "      <td>7</td>\n",
       "      <td>NaN</td>\n",
       "      <td>5</td>\n",
       "      <td>...</td>\n",
       "      <td>5.0</td>\n",
       "      <td>7.0</td>\n",
       "      <td>7.0</td>\n",
       "      <td>7.0</td>\n",
       "      <td>7.0</td>\n",
       "      <td>NaN</td>\n",
       "      <td>NaN</td>\n",
       "      <td>NaN</td>\n",
       "      <td>NaN</td>\n",
       "      <td>NaN</td>\n",
       "    </tr>\n",
       "    <tr>\n",
       "      <th>4</th>\n",
       "      <td>1</td>\n",
       "      <td>1.0</td>\n",
       "      <td>0</td>\n",
       "      <td>1</td>\n",
       "      <td>1</td>\n",
       "      <td>1</td>\n",
       "      <td>10</td>\n",
       "      <td>7</td>\n",
       "      <td>NaN</td>\n",
       "      <td>7</td>\n",
       "      <td>...</td>\n",
       "      <td>5.0</td>\n",
       "      <td>7.0</td>\n",
       "      <td>7.0</td>\n",
       "      <td>7.0</td>\n",
       "      <td>7.0</td>\n",
       "      <td>NaN</td>\n",
       "      <td>NaN</td>\n",
       "      <td>NaN</td>\n",
       "      <td>NaN</td>\n",
       "      <td>NaN</td>\n",
       "    </tr>\n",
       "  </tbody>\n",
       "</table>\n",
       "<p>5 rows × 195 columns</p>\n",
       "</div>"
      ],
      "text/plain": [
       "   iid   id  gender  idg  condtn  wave  round  position  positin1  order  \\\n",
       "0    1  1.0       0    1       1     1     10         7       NaN      4   \n",
       "1    1  1.0       0    1       1     1     10         7       NaN      3   \n",
       "2    1  1.0       0    1       1     1     10         7       NaN     10   \n",
       "3    1  1.0       0    1       1     1     10         7       NaN      5   \n",
       "4    1  1.0       0    1       1     1     10         7       NaN      7   \n",
       "\n",
       "    ...    attr3_3  sinc3_3  intel3_3  fun3_3  amb3_3  attr5_3  sinc5_3  \\\n",
       "0   ...        5.0      7.0       7.0     7.0     7.0      NaN      NaN   \n",
       "1   ...        5.0      7.0       7.0     7.0     7.0      NaN      NaN   \n",
       "2   ...        5.0      7.0       7.0     7.0     7.0      NaN      NaN   \n",
       "3   ...        5.0      7.0       7.0     7.0     7.0      NaN      NaN   \n",
       "4   ...        5.0      7.0       7.0     7.0     7.0      NaN      NaN   \n",
       "\n",
       "   intel5_3  fun5_3  amb5_3  \n",
       "0       NaN     NaN     NaN  \n",
       "1       NaN     NaN     NaN  \n",
       "2       NaN     NaN     NaN  \n",
       "3       NaN     NaN     NaN  \n",
       "4       NaN     NaN     NaN  \n",
       "\n",
       "[5 rows x 195 columns]"
      ]
     },
     "execution_count": 53,
     "metadata": {},
     "output_type": "execute_result"
    }
   ],
   "source": [
    "df_main = pd.read_csv(os.path.join('..', '1', 'Speed Dating Data.csv'))\n",
    "\n",
    "df_main.head()"
   ]
  },
  {
   "cell_type": "code",
   "execution_count": 54,
   "metadata": {
    "collapsed": false
   },
   "outputs": [
    {
     "data": {
      "text/plain": [
       "(8378, 195)"
      ]
     },
     "execution_count": 54,
     "metadata": {},
     "output_type": "execute_result"
    }
   ],
   "source": [
    "df_main.shape"
   ]
  },
  {
   "cell_type": "code",
   "execution_count": 41,
   "metadata": {
    "collapsed": false
   },
   "outputs": [
    {
     "name": "stdout",
     "output_type": "stream",
     "text": [
      "iid\n",
      "id\n",
      "gender\n",
      "idg\n",
      "condtn\n",
      "wave\n",
      "round\n",
      "position\n",
      "positin1\n",
      "order\n",
      "partner\n",
      "pid\n",
      "match\n",
      "int_corr\n",
      "samerace\n",
      "age_o\n",
      "race_o\n",
      "pf_o_att\n",
      "pf_o_sin\n",
      "pf_o_int\n",
      "pf_o_fun\n",
      "pf_o_amb\n",
      "pf_o_sha\n",
      "dec_o\n",
      "attr_o\n",
      "sinc_o\n",
      "intel_o\n",
      "fun_o\n",
      "amb_o\n",
      "shar_o\n",
      "like_o\n",
      "prob_o\n",
      "met_o\n",
      "age\n",
      "field\n",
      "field_cd\n",
      "undergra\n",
      "mn_sat\n",
      "tuition\n",
      "race\n",
      "imprace\n",
      "imprelig\n",
      "from\n",
      "zipcode\n",
      "income\n",
      "goal\n",
      "date\n",
      "go_out\n",
      "career\n",
      "career_c\n",
      "sports\n",
      "tvsports\n",
      "exercise\n",
      "dining\n",
      "museums\n",
      "art\n",
      "hiking\n",
      "gaming\n",
      "clubbing\n",
      "reading\n",
      "tv\n",
      "theater\n",
      "movies\n",
      "concerts\n",
      "music\n",
      "shopping\n",
      "yoga\n",
      "exphappy\n",
      "expnum\n",
      "attr1_1\n",
      "sinc1_1\n",
      "intel1_1\n",
      "fun1_1\n",
      "amb1_1\n",
      "shar1_1\n",
      "attr4_1\n",
      "sinc4_1\n",
      "intel4_1\n",
      "fun4_1\n",
      "amb4_1\n",
      "shar4_1\n",
      "attr2_1\n",
      "sinc2_1\n",
      "intel2_1\n",
      "fun2_1\n",
      "amb2_1\n",
      "shar2_1\n",
      "attr3_1\n",
      "sinc3_1\n",
      "fun3_1\n",
      "intel3_1\n",
      "amb3_1\n",
      "attr5_1\n",
      "sinc5_1\n",
      "intel5_1\n",
      "fun5_1\n",
      "amb5_1\n",
      "dec\n",
      "attr\n",
      "sinc\n",
      "intel\n",
      "fun\n",
      "amb\n",
      "shar\n",
      "like\n",
      "prob\n",
      "met\n",
      "match_es\n",
      "attr1_s\n",
      "sinc1_s\n",
      "intel1_s\n",
      "fun1_s\n",
      "amb1_s\n",
      "shar1_s\n",
      "attr3_s\n",
      "sinc3_s\n",
      "intel3_s\n",
      "fun3_s\n",
      "amb3_s\n",
      "satis_2\n",
      "length\n",
      "numdat_2\n",
      "attr7_2\n",
      "sinc7_2\n",
      "intel7_2\n",
      "fun7_2\n",
      "amb7_2\n",
      "shar7_2\n",
      "attr1_2\n",
      "sinc1_2\n",
      "intel1_2\n",
      "fun1_2\n",
      "amb1_2\n",
      "shar1_2\n",
      "attr4_2\n",
      "sinc4_2\n",
      "intel4_2\n",
      "fun4_2\n",
      "amb4_2\n",
      "shar4_2\n",
      "attr2_2\n",
      "sinc2_2\n",
      "intel2_2\n",
      "fun2_2\n",
      "amb2_2\n",
      "shar2_2\n",
      "attr3_2\n",
      "sinc3_2\n",
      "intel3_2\n",
      "fun3_2\n",
      "amb3_2\n",
      "attr5_2\n",
      "sinc5_2\n",
      "intel5_2\n",
      "fun5_2\n",
      "amb5_2\n",
      "you_call\n",
      "them_cal\n",
      "date_3\n",
      "numdat_3\n",
      "num_in_3\n",
      "attr1_3\n",
      "sinc1_3\n",
      "intel1_3\n",
      "fun1_3\n",
      "amb1_3\n",
      "shar1_3\n",
      "attr7_3\n",
      "sinc7_3\n",
      "intel7_3\n",
      "fun7_3\n",
      "amb7_3\n",
      "shar7_3\n",
      "attr4_3\n",
      "sinc4_3\n",
      "intel4_3\n",
      "fun4_3\n",
      "amb4_3\n",
      "shar4_3\n",
      "attr2_3\n",
      "sinc2_3\n",
      "intel2_3\n",
      "fun2_3\n",
      "amb2_3\n",
      "shar2_3\n",
      "attr3_3\n",
      "sinc3_3\n",
      "intel3_3\n",
      "fun3_3\n",
      "amb3_3\n",
      "attr5_3\n",
      "sinc5_3\n",
      "intel5_3\n",
      "fun5_3\n",
      "amb5_3\n"
     ]
    }
   ],
   "source": [
    "for col in df_main.columns:\n",
    "    print col"
   ]
  },
  {
   "cell_type": "markdown",
   "metadata": {},
   "source": [
    "#### Lots of columns; I will need to select which columns are important and necessary for the analysis before proceeding so I can subset the dataframe down to a manageable size. "
   ]
  },
  {
   "cell_type": "markdown",
   "metadata": {},
   "source": [
    "I need to select my dependant variables, independant variables, and my indentifiers (wave, iid, pid)"
   ]
  },
  {
   "cell_type": "code",
   "execution_count": 57,
   "metadata": {
    "collapsed": false
   },
   "outputs": [],
   "source": [
    "df = df_main[[\"wave\", \"iid\", \"gender\", \"pid\", \"dec\", \"order\", \"samerace\", \"imprace\", \"age\", \"age_o\", \"attr\", \"sinc\", \"intel\", \"fun\", \"shar\", \"amb\", \"like\", \"prob\", \"met\" ]]"
   ]
  },
  {
   "cell_type": "code",
   "execution_count": 44,
   "metadata": {
    "collapsed": false
   },
   "outputs": [
    {
     "data": {
      "text/html": [
       "<div>\n",
       "<table border=\"1\" class=\"dataframe\">\n",
       "  <thead>\n",
       "    <tr style=\"text-align: right;\">\n",
       "      <th></th>\n",
       "      <th>wave</th>\n",
       "      <th>iid</th>\n",
       "      <th>gender</th>\n",
       "      <th>pid</th>\n",
       "      <th>dec</th>\n",
       "      <th>order</th>\n",
       "      <th>samerace</th>\n",
       "      <th>imprace</th>\n",
       "      <th>age</th>\n",
       "      <th>age_o</th>\n",
       "      <th>attr</th>\n",
       "      <th>sinc</th>\n",
       "      <th>intel</th>\n",
       "      <th>fun</th>\n",
       "      <th>shar</th>\n",
       "      <th>amb</th>\n",
       "      <th>like</th>\n",
       "      <th>prob</th>\n",
       "      <th>met</th>\n",
       "    </tr>\n",
       "  </thead>\n",
       "  <tbody>\n",
       "    <tr>\n",
       "      <th>0</th>\n",
       "      <td>1</td>\n",
       "      <td>1</td>\n",
       "      <td>0</td>\n",
       "      <td>11.0</td>\n",
       "      <td>1</td>\n",
       "      <td>4</td>\n",
       "      <td>0</td>\n",
       "      <td>2.0</td>\n",
       "      <td>21.0</td>\n",
       "      <td>27.0</td>\n",
       "      <td>6.0</td>\n",
       "      <td>9.0</td>\n",
       "      <td>7.0</td>\n",
       "      <td>7.0</td>\n",
       "      <td>5.0</td>\n",
       "      <td>6.0</td>\n",
       "      <td>7.0</td>\n",
       "      <td>6.0</td>\n",
       "      <td>2.0</td>\n",
       "    </tr>\n",
       "    <tr>\n",
       "      <th>1</th>\n",
       "      <td>1</td>\n",
       "      <td>1</td>\n",
       "      <td>0</td>\n",
       "      <td>12.0</td>\n",
       "      <td>1</td>\n",
       "      <td>3</td>\n",
       "      <td>0</td>\n",
       "      <td>2.0</td>\n",
       "      <td>21.0</td>\n",
       "      <td>22.0</td>\n",
       "      <td>7.0</td>\n",
       "      <td>8.0</td>\n",
       "      <td>7.0</td>\n",
       "      <td>8.0</td>\n",
       "      <td>6.0</td>\n",
       "      <td>5.0</td>\n",
       "      <td>7.0</td>\n",
       "      <td>5.0</td>\n",
       "      <td>1.0</td>\n",
       "    </tr>\n",
       "    <tr>\n",
       "      <th>2</th>\n",
       "      <td>1</td>\n",
       "      <td>1</td>\n",
       "      <td>0</td>\n",
       "      <td>13.0</td>\n",
       "      <td>1</td>\n",
       "      <td>10</td>\n",
       "      <td>1</td>\n",
       "      <td>2.0</td>\n",
       "      <td>21.0</td>\n",
       "      <td>22.0</td>\n",
       "      <td>5.0</td>\n",
       "      <td>8.0</td>\n",
       "      <td>9.0</td>\n",
       "      <td>8.0</td>\n",
       "      <td>7.0</td>\n",
       "      <td>5.0</td>\n",
       "      <td>7.0</td>\n",
       "      <td>NaN</td>\n",
       "      <td>1.0</td>\n",
       "    </tr>\n",
       "    <tr>\n",
       "      <th>3</th>\n",
       "      <td>1</td>\n",
       "      <td>1</td>\n",
       "      <td>0</td>\n",
       "      <td>14.0</td>\n",
       "      <td>1</td>\n",
       "      <td>5</td>\n",
       "      <td>0</td>\n",
       "      <td>2.0</td>\n",
       "      <td>21.0</td>\n",
       "      <td>23.0</td>\n",
       "      <td>7.0</td>\n",
       "      <td>6.0</td>\n",
       "      <td>8.0</td>\n",
       "      <td>7.0</td>\n",
       "      <td>8.0</td>\n",
       "      <td>6.0</td>\n",
       "      <td>7.0</td>\n",
       "      <td>6.0</td>\n",
       "      <td>2.0</td>\n",
       "    </tr>\n",
       "    <tr>\n",
       "      <th>4</th>\n",
       "      <td>1</td>\n",
       "      <td>1</td>\n",
       "      <td>0</td>\n",
       "      <td>15.0</td>\n",
       "      <td>1</td>\n",
       "      <td>7</td>\n",
       "      <td>0</td>\n",
       "      <td>2.0</td>\n",
       "      <td>21.0</td>\n",
       "      <td>24.0</td>\n",
       "      <td>5.0</td>\n",
       "      <td>6.0</td>\n",
       "      <td>7.0</td>\n",
       "      <td>7.0</td>\n",
       "      <td>6.0</td>\n",
       "      <td>6.0</td>\n",
       "      <td>6.0</td>\n",
       "      <td>6.0</td>\n",
       "      <td>2.0</td>\n",
       "    </tr>\n",
       "  </tbody>\n",
       "</table>\n",
       "</div>"
      ],
      "text/plain": [
       "   wave  iid  gender   pid  dec  order  samerace  imprace   age  age_o  attr  \\\n",
       "0     1    1       0  11.0    1      4         0      2.0  21.0   27.0   6.0   \n",
       "1     1    1       0  12.0    1      3         0      2.0  21.0   22.0   7.0   \n",
       "2     1    1       0  13.0    1     10         1      2.0  21.0   22.0   5.0   \n",
       "3     1    1       0  14.0    1      5         0      2.0  21.0   23.0   7.0   \n",
       "4     1    1       0  15.0    1      7         0      2.0  21.0   24.0   5.0   \n",
       "\n",
       "   sinc  intel  fun  shar  amb  like  prob  met  \n",
       "0   9.0    7.0  7.0   5.0  6.0   7.0   6.0  2.0  \n",
       "1   8.0    7.0  8.0   6.0  5.0   7.0   5.0  1.0  \n",
       "2   8.0    9.0  8.0   7.0  5.0   7.0   NaN  1.0  \n",
       "3   6.0    8.0  7.0   8.0  6.0   7.0   6.0  2.0  \n",
       "4   6.0    7.0  7.0   6.0  6.0   6.0   6.0  2.0  "
      ]
     },
     "execution_count": 44,
     "metadata": {},
     "output_type": "execute_result"
    }
   ],
   "source": [
    "df.head(5)"
   ]
  },
  {
   "cell_type": "markdown",
   "metadata": {},
   "source": [
    "### Understand dataset"
   ]
  },
  {
   "cell_type": "code",
   "execution_count": 45,
   "metadata": {
    "collapsed": false,
    "scrolled": false
   },
   "outputs": [
    {
     "data": {
      "text/plain": [
       "(8378, 19)"
      ]
     },
     "execution_count": 45,
     "metadata": {},
     "output_type": "execute_result"
    }
   ],
   "source": [
    "df.shape"
   ]
  },
  {
   "cell_type": "code",
   "execution_count": 46,
   "metadata": {
    "collapsed": false
   },
   "outputs": [
    {
     "data": {
      "text/html": [
       "<div>\n",
       "<table border=\"1\" class=\"dataframe\">\n",
       "  <thead>\n",
       "    <tr style=\"text-align: right;\">\n",
       "      <th></th>\n",
       "      <th>wave</th>\n",
       "      <th>iid</th>\n",
       "      <th>gender</th>\n",
       "      <th>pid</th>\n",
       "      <th>dec</th>\n",
       "      <th>order</th>\n",
       "      <th>samerace</th>\n",
       "      <th>imprace</th>\n",
       "      <th>age</th>\n",
       "      <th>age_o</th>\n",
       "      <th>attr</th>\n",
       "      <th>sinc</th>\n",
       "      <th>intel</th>\n",
       "      <th>fun</th>\n",
       "      <th>shar</th>\n",
       "      <th>amb</th>\n",
       "      <th>like</th>\n",
       "      <th>prob</th>\n",
       "      <th>met</th>\n",
       "    </tr>\n",
       "  </thead>\n",
       "  <tbody>\n",
       "    <tr>\n",
       "      <th>count</th>\n",
       "      <td>8378.000000</td>\n",
       "      <td>8378.000000</td>\n",
       "      <td>8378.000000</td>\n",
       "      <td>8368.000000</td>\n",
       "      <td>8378.000000</td>\n",
       "      <td>8378.000000</td>\n",
       "      <td>8378.000000</td>\n",
       "      <td>8299.000000</td>\n",
       "      <td>8283.000000</td>\n",
       "      <td>8274.000000</td>\n",
       "      <td>8176.000000</td>\n",
       "      <td>8101.000000</td>\n",
       "      <td>8082.000000</td>\n",
       "      <td>8028.000000</td>\n",
       "      <td>7311.000000</td>\n",
       "      <td>7666.000000</td>\n",
       "      <td>8138.000000</td>\n",
       "      <td>8069.000000</td>\n",
       "      <td>8003.000000</td>\n",
       "    </tr>\n",
       "    <tr>\n",
       "      <th>mean</th>\n",
       "      <td>11.350919</td>\n",
       "      <td>283.675937</td>\n",
       "      <td>0.500597</td>\n",
       "      <td>283.863767</td>\n",
       "      <td>0.419909</td>\n",
       "      <td>8.927668</td>\n",
       "      <td>0.395799</td>\n",
       "      <td>3.784793</td>\n",
       "      <td>26.358928</td>\n",
       "      <td>26.364999</td>\n",
       "      <td>6.189995</td>\n",
       "      <td>7.175164</td>\n",
       "      <td>7.368597</td>\n",
       "      <td>6.400598</td>\n",
       "      <td>5.474559</td>\n",
       "      <td>6.777524</td>\n",
       "      <td>6.134087</td>\n",
       "      <td>5.207523</td>\n",
       "      <td>0.948769</td>\n",
       "    </tr>\n",
       "    <tr>\n",
       "      <th>std</th>\n",
       "      <td>5.995903</td>\n",
       "      <td>158.583367</td>\n",
       "      <td>0.500029</td>\n",
       "      <td>158.584899</td>\n",
       "      <td>0.493573</td>\n",
       "      <td>5.477009</td>\n",
       "      <td>0.489051</td>\n",
       "      <td>2.845708</td>\n",
       "      <td>3.566763</td>\n",
       "      <td>3.563648</td>\n",
       "      <td>1.950169</td>\n",
       "      <td>1.740315</td>\n",
       "      <td>1.550453</td>\n",
       "      <td>1.953702</td>\n",
       "      <td>2.156363</td>\n",
       "      <td>1.794055</td>\n",
       "      <td>1.841285</td>\n",
       "      <td>2.129565</td>\n",
       "      <td>0.989889</td>\n",
       "    </tr>\n",
       "    <tr>\n",
       "      <th>min</th>\n",
       "      <td>1.000000</td>\n",
       "      <td>1.000000</td>\n",
       "      <td>0.000000</td>\n",
       "      <td>1.000000</td>\n",
       "      <td>0.000000</td>\n",
       "      <td>1.000000</td>\n",
       "      <td>0.000000</td>\n",
       "      <td>0.000000</td>\n",
       "      <td>18.000000</td>\n",
       "      <td>18.000000</td>\n",
       "      <td>0.000000</td>\n",
       "      <td>0.000000</td>\n",
       "      <td>0.000000</td>\n",
       "      <td>0.000000</td>\n",
       "      <td>0.000000</td>\n",
       "      <td>0.000000</td>\n",
       "      <td>0.000000</td>\n",
       "      <td>0.000000</td>\n",
       "      <td>0.000000</td>\n",
       "    </tr>\n",
       "    <tr>\n",
       "      <th>25%</th>\n",
       "      <td>7.000000</td>\n",
       "      <td>154.000000</td>\n",
       "      <td>0.000000</td>\n",
       "      <td>NaN</td>\n",
       "      <td>0.000000</td>\n",
       "      <td>4.000000</td>\n",
       "      <td>0.000000</td>\n",
       "      <td>NaN</td>\n",
       "      <td>NaN</td>\n",
       "      <td>NaN</td>\n",
       "      <td>NaN</td>\n",
       "      <td>NaN</td>\n",
       "      <td>NaN</td>\n",
       "      <td>NaN</td>\n",
       "      <td>NaN</td>\n",
       "      <td>NaN</td>\n",
       "      <td>NaN</td>\n",
       "      <td>NaN</td>\n",
       "      <td>NaN</td>\n",
       "    </tr>\n",
       "    <tr>\n",
       "      <th>50%</th>\n",
       "      <td>11.000000</td>\n",
       "      <td>281.000000</td>\n",
       "      <td>1.000000</td>\n",
       "      <td>NaN</td>\n",
       "      <td>0.000000</td>\n",
       "      <td>8.000000</td>\n",
       "      <td>0.000000</td>\n",
       "      <td>NaN</td>\n",
       "      <td>NaN</td>\n",
       "      <td>NaN</td>\n",
       "      <td>NaN</td>\n",
       "      <td>NaN</td>\n",
       "      <td>NaN</td>\n",
       "      <td>NaN</td>\n",
       "      <td>NaN</td>\n",
       "      <td>NaN</td>\n",
       "      <td>NaN</td>\n",
       "      <td>NaN</td>\n",
       "      <td>NaN</td>\n",
       "    </tr>\n",
       "    <tr>\n",
       "      <th>75%</th>\n",
       "      <td>15.000000</td>\n",
       "      <td>407.000000</td>\n",
       "      <td>1.000000</td>\n",
       "      <td>NaN</td>\n",
       "      <td>1.000000</td>\n",
       "      <td>13.000000</td>\n",
       "      <td>1.000000</td>\n",
       "      <td>NaN</td>\n",
       "      <td>NaN</td>\n",
       "      <td>NaN</td>\n",
       "      <td>NaN</td>\n",
       "      <td>NaN</td>\n",
       "      <td>NaN</td>\n",
       "      <td>NaN</td>\n",
       "      <td>NaN</td>\n",
       "      <td>NaN</td>\n",
       "      <td>NaN</td>\n",
       "      <td>NaN</td>\n",
       "      <td>NaN</td>\n",
       "    </tr>\n",
       "    <tr>\n",
       "      <th>max</th>\n",
       "      <td>21.000000</td>\n",
       "      <td>552.000000</td>\n",
       "      <td>1.000000</td>\n",
       "      <td>552.000000</td>\n",
       "      <td>1.000000</td>\n",
       "      <td>22.000000</td>\n",
       "      <td>1.000000</td>\n",
       "      <td>10.000000</td>\n",
       "      <td>55.000000</td>\n",
       "      <td>55.000000</td>\n",
       "      <td>10.000000</td>\n",
       "      <td>10.000000</td>\n",
       "      <td>10.000000</td>\n",
       "      <td>10.000000</td>\n",
       "      <td>10.000000</td>\n",
       "      <td>10.000000</td>\n",
       "      <td>10.000000</td>\n",
       "      <td>10.000000</td>\n",
       "      <td>8.000000</td>\n",
       "    </tr>\n",
       "  </tbody>\n",
       "</table>\n",
       "</div>"
      ],
      "text/plain": [
       "              wave          iid       gender          pid          dec  \\\n",
       "count  8378.000000  8378.000000  8378.000000  8368.000000  8378.000000   \n",
       "mean     11.350919   283.675937     0.500597   283.863767     0.419909   \n",
       "std       5.995903   158.583367     0.500029   158.584899     0.493573   \n",
       "min       1.000000     1.000000     0.000000     1.000000     0.000000   \n",
       "25%       7.000000   154.000000     0.000000          NaN     0.000000   \n",
       "50%      11.000000   281.000000     1.000000          NaN     0.000000   \n",
       "75%      15.000000   407.000000     1.000000          NaN     1.000000   \n",
       "max      21.000000   552.000000     1.000000   552.000000     1.000000   \n",
       "\n",
       "             order     samerace      imprace          age        age_o  \\\n",
       "count  8378.000000  8378.000000  8299.000000  8283.000000  8274.000000   \n",
       "mean      8.927668     0.395799     3.784793    26.358928    26.364999   \n",
       "std       5.477009     0.489051     2.845708     3.566763     3.563648   \n",
       "min       1.000000     0.000000     0.000000    18.000000    18.000000   \n",
       "25%       4.000000     0.000000          NaN          NaN          NaN   \n",
       "50%       8.000000     0.000000          NaN          NaN          NaN   \n",
       "75%      13.000000     1.000000          NaN          NaN          NaN   \n",
       "max      22.000000     1.000000    10.000000    55.000000    55.000000   \n",
       "\n",
       "              attr         sinc        intel          fun         shar  \\\n",
       "count  8176.000000  8101.000000  8082.000000  8028.000000  7311.000000   \n",
       "mean      6.189995     7.175164     7.368597     6.400598     5.474559   \n",
       "std       1.950169     1.740315     1.550453     1.953702     2.156363   \n",
       "min       0.000000     0.000000     0.000000     0.000000     0.000000   \n",
       "25%            NaN          NaN          NaN          NaN          NaN   \n",
       "50%            NaN          NaN          NaN          NaN          NaN   \n",
       "75%            NaN          NaN          NaN          NaN          NaN   \n",
       "max      10.000000    10.000000    10.000000    10.000000    10.000000   \n",
       "\n",
       "               amb         like         prob          met  \n",
       "count  7666.000000  8138.000000  8069.000000  8003.000000  \n",
       "mean      6.777524     6.134087     5.207523     0.948769  \n",
       "std       1.794055     1.841285     2.129565     0.989889  \n",
       "min       0.000000     0.000000     0.000000     0.000000  \n",
       "25%            NaN          NaN          NaN          NaN  \n",
       "50%            NaN          NaN          NaN          NaN  \n",
       "75%            NaN          NaN          NaN          NaN  \n",
       "max      10.000000    10.000000    10.000000     8.000000  "
      ]
     },
     "execution_count": 46,
     "metadata": {},
     "output_type": "execute_result"
    }
   ],
   "source": [
    "df.describe()"
   ]
  },
  {
   "cell_type": "markdown",
   "metadata": {},
   "source": [
    "Observations:\n",
    "    - some data is missing (there is <= 8378 observations in each column)\n",
    "    - most columns look correct at first glance, exept for \"Met\"\n",
    "        - Dec: binary value\n",
    "        - Order: max 22 rounds per wave\n",
    "        - impract: score out of 10\n",
    "        - age and ago of partner: max 55 (absolute value for age)\n",
    "        - each of the 6 attributes, like and prob: score out of 10\n",
    "        - met: This is not as expected. expected a binary value (1= \"yes\", 2 = \"no\")\n",
    "        \n",
    "    - Some columns are duplicated multiple times (columsn that describe the subject, not the date). if I want to do analysis at the subject level, I should create a data subset at the subject level\n",
    "        \n",
    "    - Takeaways: Will need to handle missing values, and also fix incorrect values in the \"met\" column"
   ]
  },
  {
   "cell_type": "code",
   "execution_count": 56,
   "metadata": {
    "collapsed": false
   },
   "outputs": [
    {
     "name": "stdout",
     "output_type": "stream",
     "text": [
      "<class 'pandas.core.frame.DataFrame'>\n",
      "RangeIndex: 8378 entries, 0 to 8377\n",
      "Data columns (total 19 columns):\n",
      "wave        8378 non-null int64\n",
      "iid         8378 non-null int64\n",
      "gender      8378 non-null int64\n",
      "pid         8368 non-null float64\n",
      "dec         8378 non-null int64\n",
      "order       8378 non-null int64\n",
      "samerace    8378 non-null int64\n",
      "imprace     8299 non-null float64\n",
      "age         8283 non-null float64\n",
      "age_o       8274 non-null float64\n",
      "attr        8176 non-null float64\n",
      "sinc        8101 non-null float64\n",
      "intel       8082 non-null float64\n",
      "fun         8028 non-null float64\n",
      "shar        7311 non-null float64\n",
      "amb         7666 non-null float64\n",
      "like        8138 non-null float64\n",
      "prob        8069 non-null float64\n",
      "met         8003 non-null float64\n",
      "dtypes: float64(13), int64(6)\n",
      "memory usage: 1.2 MB\n"
     ]
    }
   ],
   "source": [
    "df.info()"
   ]
  },
  {
   "cell_type": "code",
   "execution_count": null,
   "metadata": {
    "collapsed": true
   },
   "outputs": [],
   "source": []
  },
  {
   "cell_type": "code",
   "execution_count": 48,
   "metadata": {
    "collapsed": false
   },
   "outputs": [
    {
     "name": "stderr",
     "output_type": "stream",
     "text": [
      "C:\\Users\\lacheung\\AppData\\Local\\Continuum\\Anaconda2\\lib\\site-packages\\ipykernel\\__main__.py:1: SettingWithCopyWarning: \n",
      "A value is trying to be set on a copy of a slice from a DataFrame\n",
      "\n",
      "See the caveats in the documentation: http://pandas.pydata.org/pandas-docs/stable/indexing.html#indexing-view-versus-copy\n",
      "  if __name__ == '__main__':\n"
     ]
    }
   ],
   "source": [
    "#df.dropna(inplace = True)"
   ]
  },
  {
   "cell_type": "code",
   "execution_count": 50,
   "metadata": {
    "collapsed": false
   },
   "outputs": [
    {
     "data": {
      "text/plain": [
       "(6649, 19)"
      ]
     },
     "execution_count": 50,
     "metadata": {},
     "output_type": "execute_result"
    }
   ],
   "source": [
    "df.shape"
   ]
  },
  {
   "cell_type": "code",
   "execution_count": 105,
   "metadata": {
    "collapsed": false
   },
   "outputs": [
    {
     "data": {
      "text/html": [
       "<div>\n",
       "<table border=\"1\" class=\"dataframe\">\n",
       "  <thead>\n",
       "    <tr style=\"text-align: right;\">\n",
       "      <th></th>\n",
       "      <th></th>\n",
       "      <th>age</th>\n",
       "      <th>iid</th>\n",
       "      <th>imprace</th>\n",
       "      <th>wave</th>\n",
       "    </tr>\n",
       "    <tr>\n",
       "      <th>gender</th>\n",
       "      <th></th>\n",
       "      <th></th>\n",
       "      <th></th>\n",
       "      <th></th>\n",
       "      <th></th>\n",
       "    </tr>\n",
       "  </thead>\n",
       "  <tbody>\n",
       "    <tr>\n",
       "      <th rowspan=\"8\" valign=\"top\">0</th>\n",
       "      <th>count</th>\n",
       "      <td>4119.000000</td>\n",
       "      <td>4184.000000</td>\n",
       "      <td>4125.000000</td>\n",
       "      <td>4184.000000</td>\n",
       "    </tr>\n",
       "    <tr>\n",
       "      <th>mean</th>\n",
       "      <td>26.105851</td>\n",
       "      <td>275.430210</td>\n",
       "      <td>4.108848</td>\n",
       "      <td>11.358509</td>\n",
       "    </tr>\n",
       "    <tr>\n",
       "      <th>std</th>\n",
       "      <td>3.683108</td>\n",
       "      <td>157.881194</td>\n",
       "      <td>3.015404</td>\n",
       "      <td>5.995820</td>\n",
       "    </tr>\n",
       "    <tr>\n",
       "      <th>min</th>\n",
       "      <td>19.000000</td>\n",
       "      <td>1.000000</td>\n",
       "      <td>0.000000</td>\n",
       "      <td>1.000000</td>\n",
       "    </tr>\n",
       "    <tr>\n",
       "      <th>25%</th>\n",
       "      <td>NaN</td>\n",
       "      <td>148.000000</td>\n",
       "      <td>NaN</td>\n",
       "      <td>7.000000</td>\n",
       "    </tr>\n",
       "    <tr>\n",
       "      <th>50%</th>\n",
       "      <td>NaN</td>\n",
       "      <td>266.000000</td>\n",
       "      <td>NaN</td>\n",
       "      <td>11.000000</td>\n",
       "    </tr>\n",
       "    <tr>\n",
       "      <th>75%</th>\n",
       "      <td>NaN</td>\n",
       "      <td>393.000000</td>\n",
       "      <td>NaN</td>\n",
       "      <td>15.000000</td>\n",
       "    </tr>\n",
       "    <tr>\n",
       "      <th>max</th>\n",
       "      <td>55.000000</td>\n",
       "      <td>530.000000</td>\n",
       "      <td>10.000000</td>\n",
       "      <td>21.000000</td>\n",
       "    </tr>\n",
       "    <tr>\n",
       "      <th rowspan=\"8\" valign=\"top\">1</th>\n",
       "      <th>count</th>\n",
       "      <td>4164.000000</td>\n",
       "      <td>4194.000000</td>\n",
       "      <td>4174.000000</td>\n",
       "      <td>4194.000000</td>\n",
       "    </tr>\n",
       "    <tr>\n",
       "      <th>mean</th>\n",
       "      <td>26.609270</td>\n",
       "      <td>291.902003</td>\n",
       "      <td>3.464542</td>\n",
       "      <td>11.343348</td>\n",
       "    </tr>\n",
       "    <tr>\n",
       "      <th>std</th>\n",
       "      <td>3.429930</td>\n",
       "      <td>158.873643</td>\n",
       "      <td>2.628817</td>\n",
       "      <td>5.996692</td>\n",
       "    </tr>\n",
       "    <tr>\n",
       "      <th>min</th>\n",
       "      <td>18.000000</td>\n",
       "      <td>11.000000</td>\n",
       "      <td>1.000000</td>\n",
       "      <td>1.000000</td>\n",
       "    </tr>\n",
       "    <tr>\n",
       "      <th>25%</th>\n",
       "      <td>NaN</td>\n",
       "      <td>163.250000</td>\n",
       "      <td>NaN</td>\n",
       "      <td>7.000000</td>\n",
       "    </tr>\n",
       "    <tr>\n",
       "      <th>50%</th>\n",
       "      <td>NaN</td>\n",
       "      <td>287.000000</td>\n",
       "      <td>NaN</td>\n",
       "      <td>11.000000</td>\n",
       "    </tr>\n",
       "    <tr>\n",
       "      <th>75%</th>\n",
       "      <td>NaN</td>\n",
       "      <td>411.000000</td>\n",
       "      <td>NaN</td>\n",
       "      <td>15.000000</td>\n",
       "    </tr>\n",
       "    <tr>\n",
       "      <th>max</th>\n",
       "      <td>42.000000</td>\n",
       "      <td>552.000000</td>\n",
       "      <td>10.000000</td>\n",
       "      <td>21.000000</td>\n",
       "    </tr>\n",
       "  </tbody>\n",
       "</table>\n",
       "</div>"
      ],
      "text/plain": [
       "                      age          iid      imprace         wave\n",
       "gender                                                          \n",
       "0      count  4119.000000  4184.000000  4125.000000  4184.000000\n",
       "       mean     26.105851   275.430210     4.108848    11.358509\n",
       "       std       3.683108   157.881194     3.015404     5.995820\n",
       "       min      19.000000     1.000000     0.000000     1.000000\n",
       "       25%            NaN   148.000000          NaN     7.000000\n",
       "       50%            NaN   266.000000          NaN    11.000000\n",
       "       75%            NaN   393.000000          NaN    15.000000\n",
       "       max      55.000000   530.000000    10.000000    21.000000\n",
       "1      count  4164.000000  4194.000000  4174.000000  4194.000000\n",
       "       mean     26.609270   291.902003     3.464542    11.343348\n",
       "       std       3.429930   158.873643     2.628817     5.996692\n",
       "       min      18.000000    11.000000     1.000000     1.000000\n",
       "       25%            NaN   163.250000          NaN     7.000000\n",
       "       50%            NaN   287.000000          NaN    11.000000\n",
       "       75%            NaN   411.000000          NaN    15.000000\n",
       "       max      42.000000   552.000000    10.000000    21.000000"
      ]
     },
     "execution_count": 105,
     "metadata": {},
     "output_type": "execute_result"
    }
   ],
   "source": [
    "#Let's look at the profile of the female participants vs male\n",
    "df[[\"iid\", \"wave\", \"gender\", \"imprace\", \"age\"]].groupby(by = \"gender\").describe()"
   ]
  },
  {
   "cell_type": "code",
   "execution_count": 29,
   "metadata": {
    "collapsed": true
   },
   "outputs": [],
   "source": [
    "# Some columns are at the individual (iid) level, and others are at the iid + date level. To do analysis at the iid level, I need to dedup\n",
    "df_dedupe_iid = df[[\"wave\", \"iid\", \"gender\", \"imprace\", \"age\"]].drop_duplicates()"
   ]
  },
  {
   "cell_type": "code",
   "execution_count": 28,
   "metadata": {
    "collapsed": false
   },
   "outputs": [
    {
     "data": {
      "text/html": [
       "<div>\n",
       "<table border=\"1\" class=\"dataframe\">\n",
       "  <thead>\n",
       "    <tr style=\"text-align: right;\">\n",
       "      <th></th>\n",
       "      <th>wave</th>\n",
       "      <th>iid</th>\n",
       "      <th>gender</th>\n",
       "      <th>imprace</th>\n",
       "      <th>age</th>\n",
       "    </tr>\n",
       "  </thead>\n",
       "  <tbody>\n",
       "    <tr>\n",
       "      <th>0</th>\n",
       "      <td>1</td>\n",
       "      <td>1</td>\n",
       "      <td>0</td>\n",
       "      <td>2.0</td>\n",
       "      <td>21.0</td>\n",
       "    </tr>\n",
       "    <tr>\n",
       "      <th>10</th>\n",
       "      <td>1</td>\n",
       "      <td>2</td>\n",
       "      <td>0</td>\n",
       "      <td>2.0</td>\n",
       "      <td>24.0</td>\n",
       "    </tr>\n",
       "    <tr>\n",
       "      <th>20</th>\n",
       "      <td>1</td>\n",
       "      <td>3</td>\n",
       "      <td>0</td>\n",
       "      <td>8.0</td>\n",
       "      <td>25.0</td>\n",
       "    </tr>\n",
       "    <tr>\n",
       "      <th>30</th>\n",
       "      <td>1</td>\n",
       "      <td>4</td>\n",
       "      <td>0</td>\n",
       "      <td>1.0</td>\n",
       "      <td>23.0</td>\n",
       "    </tr>\n",
       "    <tr>\n",
       "      <th>40</th>\n",
       "      <td>1</td>\n",
       "      <td>5</td>\n",
       "      <td>0</td>\n",
       "      <td>8.0</td>\n",
       "      <td>21.0</td>\n",
       "    </tr>\n",
       "  </tbody>\n",
       "</table>\n",
       "</div>"
      ],
      "text/plain": [
       "    wave  iid  gender  imprace   age\n",
       "0      1    1       0      2.0  21.0\n",
       "10     1    2       0      2.0  24.0\n",
       "20     1    3       0      8.0  25.0\n",
       "30     1    4       0      1.0  23.0\n",
       "40     1    5       0      8.0  21.0"
      ]
     },
     "execution_count": 28,
     "metadata": {},
     "output_type": "execute_result"
    }
   ],
   "source": [
    "df_dedupe_iid.head()"
   ]
  },
  {
   "cell_type": "code",
   "execution_count": 58,
   "metadata": {
    "collapsed": false
   },
   "outputs": [
    {
     "data": {
      "text/plain": [
       "1    277\n",
       "0    274\n",
       "Name: gender, dtype: int64"
      ]
     },
     "execution_count": 58,
     "metadata": {},
     "output_type": "execute_result"
    }
   ],
   "source": [
    "#are there equal male and females? doesnt look like it. why are there 3 more males than females\n",
    "df_dedupe_iid.gender.value_counts()"
   ]
  },
  {
   "cell_type": "code",
   "execution_count": 26,
   "metadata": {
    "collapsed": false
   },
   "outputs": [
    {
     "data": {
      "text/plain": [
       "gender\n",
       "0    Axes(0.125,0.125;0.775x0.775)\n",
       "1    Axes(0.125,0.125;0.775x0.775)\n",
       "Name: age, dtype: object"
      ]
     },
     "execution_count": 26,
     "metadata": {},
     "output_type": "execute_result"
    },
    {
     "data": {
      "image/png": "[encoded data removed]",
      "text/plain": [
       "<matplotlib.figure.Figure at 0x1a7865c0>"
      ]
     },
     "metadata": {},
     "output_type": "display_data"
    }
   ],
   "source": [
    "df_dedupe_iid.groupby(by = \"gender\").age.plot(kind = 'hist', range = (15, 55), bins = 10, alpha = 0.3)"
   ]
  },
  {
   "cell_type": "markdown",
   "metadata": {},
   "source": [
    "Observation: male population skews slightly older"
   ]
  },
  {
   "cell_type": "code",
   "execution_count": 27,
   "metadata": {
    "collapsed": false
   },
   "outputs": [
    {
     "data": {
      "text/plain": [
       "gender\n",
       "0    Axes(0.125,0.125;0.775x0.775)\n",
       "1    Axes(0.125,0.125;0.775x0.775)\n",
       "Name: imprace, dtype: object"
      ]
     },
     "execution_count": 27,
     "metadata": {},
     "output_type": "execute_result"
    },
    {
     "data": {
      "image/png": "[encoded data removed]",
      "text/plain": [
       "<matplotlib.figure.Figure at 0xde41320>"
      ]
     },
     "metadata": {},
     "output_type": "display_data"
    }
   ],
   "source": [
    "df_dedupe_iid.groupby(by = \"gender\").imprace.plot(kind = 'hist', bins = 10, alpha = 0.3)"
   ]
  },
  {
   "cell_type": "markdown",
   "metadata": {},
   "source": [
    "Observaton: Females tend to care more about their partners being the same race"
   ]
  },
  {
   "cell_type": "markdown",
   "metadata": {},
   "source": [
    "Lets center the attributes score before we explore this data"
   ]
  },
  {
   "cell_type": "code",
   "execution_count": 66,
   "metadata": {
    "collapsed": false
   },
   "outputs": [],
   "source": [
    "\n",
    "df_attributes = df[[\"sinc\", \"fun\", \"shar\", \"intel\", \"amb\", \"attr\"]]- 5"
   ]
  },
  {
   "cell_type": "code",
   "execution_count": 67,
   "metadata": {
    "collapsed": false
   },
   "outputs": [
    {
     "data": {
      "text/html": [
       "<div>\n",
       "<table border=\"1\" class=\"dataframe\">\n",
       "  <thead>\n",
       "    <tr style=\"text-align: right;\">\n",
       "      <th></th>\n",
       "      <th>sinc</th>\n",
       "      <th>fun</th>\n",
       "      <th>shar</th>\n",
       "      <th>intel</th>\n",
       "      <th>amb</th>\n",
       "      <th>attr</th>\n",
       "    </tr>\n",
       "  </thead>\n",
       "  <tbody>\n",
       "    <tr>\n",
       "      <th>count</th>\n",
       "      <td>8101.000000</td>\n",
       "      <td>8028.000000</td>\n",
       "      <td>7311.000000</td>\n",
       "      <td>8082.000000</td>\n",
       "      <td>7666.000000</td>\n",
       "      <td>8176.000000</td>\n",
       "    </tr>\n",
       "    <tr>\n",
       "      <th>mean</th>\n",
       "      <td>2.175164</td>\n",
       "      <td>1.400598</td>\n",
       "      <td>0.474559</td>\n",
       "      <td>2.368597</td>\n",
       "      <td>1.777524</td>\n",
       "      <td>1.189995</td>\n",
       "    </tr>\n",
       "    <tr>\n",
       "      <th>std</th>\n",
       "      <td>1.740315</td>\n",
       "      <td>1.953702</td>\n",
       "      <td>2.156363</td>\n",
       "      <td>1.550453</td>\n",
       "      <td>1.794055</td>\n",
       "      <td>1.950169</td>\n",
       "    </tr>\n",
       "    <tr>\n",
       "      <th>min</th>\n",
       "      <td>-5.000000</td>\n",
       "      <td>-5.000000</td>\n",
       "      <td>-5.000000</td>\n",
       "      <td>-5.000000</td>\n",
       "      <td>-5.000000</td>\n",
       "      <td>-5.000000</td>\n",
       "    </tr>\n",
       "    <tr>\n",
       "      <th>25%</th>\n",
       "      <td>NaN</td>\n",
       "      <td>NaN</td>\n",
       "      <td>NaN</td>\n",
       "      <td>NaN</td>\n",
       "      <td>NaN</td>\n",
       "      <td>NaN</td>\n",
       "    </tr>\n",
       "    <tr>\n",
       "      <th>50%</th>\n",
       "      <td>NaN</td>\n",
       "      <td>NaN</td>\n",
       "      <td>NaN</td>\n",
       "      <td>NaN</td>\n",
       "      <td>NaN</td>\n",
       "      <td>NaN</td>\n",
       "    </tr>\n",
       "    <tr>\n",
       "      <th>75%</th>\n",
       "      <td>NaN</td>\n",
       "      <td>NaN</td>\n",
       "      <td>NaN</td>\n",
       "      <td>NaN</td>\n",
       "      <td>NaN</td>\n",
       "      <td>NaN</td>\n",
       "    </tr>\n",
       "    <tr>\n",
       "      <th>max</th>\n",
       "      <td>5.000000</td>\n",
       "      <td>5.000000</td>\n",
       "      <td>5.000000</td>\n",
       "      <td>5.000000</td>\n",
       "      <td>5.000000</td>\n",
       "      <td>5.000000</td>\n",
       "    </tr>\n",
       "  </tbody>\n",
       "</table>\n",
       "</div>"
      ],
      "text/plain": [
       "              sinc          fun         shar        intel          amb  \\\n",
       "count  8101.000000  8028.000000  7311.000000  8082.000000  7666.000000   \n",
       "mean      2.175164     1.400598     0.474559     2.368597     1.777524   \n",
       "std       1.740315     1.953702     2.156363     1.550453     1.794055   \n",
       "min      -5.000000    -5.000000    -5.000000    -5.000000    -5.000000   \n",
       "25%            NaN          NaN          NaN          NaN          NaN   \n",
       "50%            NaN          NaN          NaN          NaN          NaN   \n",
       "75%            NaN          NaN          NaN          NaN          NaN   \n",
       "max       5.000000     5.000000     5.000000     5.000000     5.000000   \n",
       "\n",
       "              attr  \n",
       "count  8176.000000  \n",
       "mean      1.189995  \n",
       "std       1.950169  \n",
       "min      -5.000000  \n",
       "25%            NaN  \n",
       "50%            NaN  \n",
       "75%            NaN  \n",
       "max       5.000000  "
      ]
     },
     "execution_count": 67,
     "metadata": {},
     "output_type": "execute_result"
    }
   ],
   "source": [
    "df_attributes.describe()"
   ]
  },
  {
   "cell_type": "code",
   "execution_count": 68,
   "metadata": {
    "collapsed": false
   },
   "outputs": [
    {
     "data": {
      "text/plain": [
       "array([[<matplotlib.axes._subplots.AxesSubplot object at 0x000000001C60CBE0>,\n",
       "        <matplotlib.axes._subplots.AxesSubplot object at 0x0000000022342908>,\n",
       "        <matplotlib.axes._subplots.AxesSubplot object at 0x0000000022397400>,\n",
       "        <matplotlib.axes._subplots.AxesSubplot object at 0x00000000225AF438>,\n",
       "        <matplotlib.axes._subplots.AxesSubplot object at 0x0000000022315518>,\n",
       "        <matplotlib.axes._subplots.AxesSubplot object at 0x000000002274EF98>],\n",
       "       [<matplotlib.axes._subplots.AxesSubplot object at 0x0000000022859940>,\n",
       "        <matplotlib.axes._subplots.AxesSubplot object at 0x000000002294B550>,\n",
       "        <matplotlib.axes._subplots.AxesSubplot object at 0x0000000022A131D0>,\n",
       "        <matplotlib.axes._subplots.AxesSubplot object at 0x0000000022B12198>,\n",
       "        <matplotlib.axes._subplots.AxesSubplot object at 0x0000000022C1B080>,\n",
       "        <matplotlib.axes._subplots.AxesSubplot object at 0x0000000022B37F98>],\n",
       "       [<matplotlib.axes._subplots.AxesSubplot object at 0x0000000022DC75F8>,\n",
       "        <matplotlib.axes._subplots.AxesSubplot object at 0x0000000022E8E278>,\n",
       "        <matplotlib.axes._subplots.AxesSubplot object at 0x0000000022F739B0>,\n",
       "        <matplotlib.axes._subplots.AxesSubplot object at 0x000000002307D438>,\n",
       "        <matplotlib.axes._subplots.AxesSubplot object at 0x0000000023123240>,\n",
       "        <matplotlib.axes._subplots.AxesSubplot object at 0x000000002321BF28>],\n",
       "       [<matplotlib.axes._subplots.AxesSubplot object at 0x00000000232E68D0>,\n",
       "        <matplotlib.axes._subplots.AxesSubplot object at 0x00000000233956A0>,\n",
       "        <matplotlib.axes._subplots.AxesSubplot object at 0x00000000234DE320>,\n",
       "        <matplotlib.axes._subplots.AxesSubplot object at 0x0000000022A7B588>,\n",
       "        <matplotlib.axes._subplots.AxesSubplot object at 0x000000001C1F8240>,\n",
       "        <matplotlib.axes._subplots.AxesSubplot object at 0x000000001CB71FD0>],\n",
       "       [<matplotlib.axes._subplots.AxesSubplot object at 0x00000000235CBFD0>,\n",
       "        <matplotlib.axes._subplots.AxesSubplot object at 0x00000000236D2898>,\n",
       "        <matplotlib.axes._subplots.AxesSubplot object at 0x00000000237C7390>,\n",
       "        <matplotlib.axes._subplots.AxesSubplot object at 0x00000000238CE4A8>,\n",
       "        <matplotlib.axes._subplots.AxesSubplot object at 0x0000000023930080>,\n",
       "        <matplotlib.axes._subplots.AxesSubplot object at 0x0000000023A2BAC8>],\n",
       "       [<matplotlib.axes._subplots.AxesSubplot object at 0x0000000023B8C470>,\n",
       "        <matplotlib.axes._subplots.AxesSubplot object at 0x0000000023C3C518>,\n",
       "        <matplotlib.axes._subplots.AxesSubplot object at 0x0000000023D38E80>,\n",
       "        <matplotlib.axes._subplots.AxesSubplot object at 0x0000000023E2D898>,\n",
       "        <matplotlib.axes._subplots.AxesSubplot object at 0x0000000023EF49B0>,\n",
       "        <matplotlib.axes._subplots.AxesSubplot object at 0x0000000023F9A588>]], dtype=object)"
      ]
     },
     "execution_count": 68,
     "metadata": {},
     "output_type": "execute_result"
    },
    {
     "data": {
      "image/png": "[encoded data removed]",
      "text/plain": [
       "<matplotlib.figure.Figure at 0x2218ae80>"
      ]
     },
     "metadata": {},
     "output_type": "display_data"
    }
   ],
   "source": [
    "# are there any attributes that are closely correlated with the other\n",
    "pd.tools.plotting.scatter_matrix(df_attributes, s=70, figsize = (10,10))"
   ]
  },
  {
   "cell_type": "code",
   "execution_count": 70,
   "metadata": {
    "collapsed": false
   },
   "outputs": [
    {
     "data": {
      "text/html": [
       "<div>\n",
       "<table border=\"1\" class=\"dataframe\">\n",
       "  <thead>\n",
       "    <tr style=\"text-align: right;\">\n",
       "      <th></th>\n",
       "      <th>sinc</th>\n",
       "      <th>fun</th>\n",
       "      <th>shar</th>\n",
       "      <th>intel</th>\n",
       "      <th>amb</th>\n",
       "      <th>attr</th>\n",
       "    </tr>\n",
       "  </thead>\n",
       "  <tbody>\n",
       "    <tr>\n",
       "      <th>sinc</th>\n",
       "      <td>1.000000</td>\n",
       "      <td>0.491693</td>\n",
       "      <td>0.398425</td>\n",
       "      <td>0.657664</td>\n",
       "      <td>0.456529</td>\n",
       "      <td>0.399897</td>\n",
       "    </tr>\n",
       "    <tr>\n",
       "      <th>fun</th>\n",
       "      <td>0.491693</td>\n",
       "      <td>1.000000</td>\n",
       "      <td>0.617989</td>\n",
       "      <td>0.494370</td>\n",
       "      <td>0.489806</td>\n",
       "      <td>0.586382</td>\n",
       "    </tr>\n",
       "    <tr>\n",
       "      <th>shar</th>\n",
       "      <td>0.398425</td>\n",
       "      <td>0.617989</td>\n",
       "      <td>1.000000</td>\n",
       "      <td>0.400285</td>\n",
       "      <td>0.432839</td>\n",
       "      <td>0.480312</td>\n",
       "    </tr>\n",
       "    <tr>\n",
       "      <th>intel</th>\n",
       "      <td>0.657664</td>\n",
       "      <td>0.494370</td>\n",
       "      <td>0.400285</td>\n",
       "      <td>1.000000</td>\n",
       "      <td>0.627483</td>\n",
       "      <td>0.391064</td>\n",
       "    </tr>\n",
       "    <tr>\n",
       "      <th>amb</th>\n",
       "      <td>0.456529</td>\n",
       "      <td>0.489806</td>\n",
       "      <td>0.432839</td>\n",
       "      <td>0.627483</td>\n",
       "      <td>1.000000</td>\n",
       "      <td>0.359438</td>\n",
       "    </tr>\n",
       "    <tr>\n",
       "      <th>attr</th>\n",
       "      <td>0.399897</td>\n",
       "      <td>0.586382</td>\n",
       "      <td>0.480312</td>\n",
       "      <td>0.391064</td>\n",
       "      <td>0.359438</td>\n",
       "      <td>1.000000</td>\n",
       "    </tr>\n",
       "  </tbody>\n",
       "</table>\n",
       "</div>"
      ],
      "text/plain": [
       "           sinc       fun      shar     intel       amb      attr\n",
       "sinc   1.000000  0.491693  0.398425  0.657664  0.456529  0.399897\n",
       "fun    0.491693  1.000000  0.617989  0.494370  0.489806  0.586382\n",
       "shar   0.398425  0.617989  1.000000  0.400285  0.432839  0.480312\n",
       "intel  0.657664  0.494370  0.400285  1.000000  0.627483  0.391064\n",
       "amb    0.456529  0.489806  0.432839  0.627483  1.000000  0.359438\n",
       "attr   0.399897  0.586382  0.480312  0.391064  0.359438  1.000000"
      ]
     },
     "execution_count": 70,
     "metadata": {},
     "output_type": "execute_result"
    }
   ],
   "source": [
    "# i cant see any relationships clearly. let's look at corr\n",
    "df_attributes.corr()"
   ]
  },
  {
   "cell_type": "markdown",
   "metadata": {},
   "source": [
    "Each attribute is positively correlated with the others. \n",
    "- sincerity is highly correlated with intelligence\n",
    "- fun is highly correlated with shared interests\n",
    "- intelligence is highly correlated with ambition\n",
    "- attractiveness is highly correlated with fun"
   ]
  },
  {
   "cell_type": "code",
   "execution_count": 71,
   "metadata": {
    "collapsed": false
   },
   "outputs": [
    {
     "data": {
      "text/plain": [
       "<matplotlib.axes._subplots.AxesSubplot at 0x253fe9b0>"
      ]
     },
     "execution_count": 71,
     "metadata": {},
     "output_type": "execute_result"
    },
    {
     "data": {
      "image/png": "[encoded data removed]",
      "text/plain": [
       "<matplotlib.figure.Figure at 0x254111d0>"
      ]
     },
     "metadata": {},
     "output_type": "display_data"
    }
   ],
   "source": [
    "df_attributes.plot(kind = \"box\")"
   ]
  },
  {
   "cell_type": "markdown",
   "metadata": {},
   "source": [
    "Observations:\n",
    "- participants were generally 'generous' graders, average scores for each attributes is higher than 5 (or 0, once data is centered)\n",
    "- range is largest for 'shared interests'\n",
    "- intelligence, ambition and sincerity has a smaller range, skewed positively. This makes sense since all the participants are college students, and these three attributes are also highly correlated with each other"
   ]
  },
  {
   "cell_type": "code",
   "execution_count": 80,
   "metadata": {
    "collapsed": false
   },
   "outputs": [
    {
     "data": {
      "text/html": [
       "<div>\n",
       "<table border=\"1\" class=\"dataframe\">\n",
       "  <thead>\n",
       "    <tr style=\"text-align: right;\">\n",
       "      <th>samerace</th>\n",
       "      <th>0</th>\n",
       "      <th>1</th>\n",
       "    </tr>\n",
       "    <tr>\n",
       "      <th>dec</th>\n",
       "      <th></th>\n",
       "      <th></th>\n",
       "    </tr>\n",
       "  </thead>\n",
       "  <tbody>\n",
       "    <tr>\n",
       "      <th>0</th>\n",
       "      <td>2983</td>\n",
       "      <td>1877</td>\n",
       "    </tr>\n",
       "    <tr>\n",
       "      <th>1</th>\n",
       "      <td>2079</td>\n",
       "      <td>1439</td>\n",
       "    </tr>\n",
       "  </tbody>\n",
       "</table>\n",
       "</div>"
      ],
      "text/plain": [
       "samerace     0     1\n",
       "dec                 \n",
       "0         2983  1877\n",
       "1         2079  1439"
      ]
     },
     "execution_count": 80,
     "metadata": {},
     "output_type": "execute_result"
    }
   ],
   "source": [
    "pd.crosstab(df.dec, df.samerace)"
   ]
  },
  {
   "cell_type": "code",
   "execution_count": 83,
   "metadata": {
    "collapsed": false
   },
   "outputs": [
    {
     "data": {
      "text/plain": [
       "1.1000065858883121"
      ]
     },
     "execution_count": 83,
     "metadata": {},
     "output_type": "execute_result"
    }
   ],
   "source": [
    "#odds ratio decision = yes if same race:\n",
    "(1439. / 1877) / (2079. / 2983)"
   ]
  },
  {
   "cell_type": "markdown",
   "metadata": {},
   "source": [
    "You are 1.1 times more likely to have decision = yes if date is the same race"
   ]
  },
  {
   "cell_type": "code",
   "execution_count": 93,
   "metadata": {
    "collapsed": false
   },
   "outputs": [
    {
     "name": "stderr",
     "output_type": "stream",
     "text": [
      "C:\\Users\\lacheung\\AppData\\Local\\Continuum\\Anaconda2\\lib\\site-packages\\ipykernel\\__main__.py:1: SettingWithCopyWarning: \n",
      "A value is trying to be set on a copy of a slice from a DataFrame.\n",
      "Try using .loc[row_indexer,col_indexer] = value instead\n",
      "\n",
      "See the caveats in the documentation: http://pandas.pydata.org/pandas-docs/stable/indexing.html#indexing-view-versus-copy\n",
      "  if __name__ == '__main__':\n"
     ]
    }
   ],
   "source": [
    "df[\"averagescore\"] = (df.sinc + df.fun + df.shar + df.intel + df.amb + df.attr)/6"
   ]
  },
  {
   "cell_type": "code",
   "execution_count": 94,
   "metadata": {
    "collapsed": false
   },
   "outputs": [
    {
     "data": {
      "text/html": [
       "<div>\n",
       "<table border=\"1\" class=\"dataframe\">\n",
       "  <thead>\n",
       "    <tr style=\"text-align: right;\">\n",
       "      <th></th>\n",
       "      <th>wave</th>\n",
       "      <th>iid</th>\n",
       "      <th>gender</th>\n",
       "      <th>pid</th>\n",
       "      <th>dec</th>\n",
       "      <th>order</th>\n",
       "      <th>samerace</th>\n",
       "      <th>imprace</th>\n",
       "      <th>age</th>\n",
       "      <th>age_o</th>\n",
       "      <th>attr</th>\n",
       "      <th>sinc</th>\n",
       "      <th>intel</th>\n",
       "      <th>fun</th>\n",
       "      <th>shar</th>\n",
       "      <th>amb</th>\n",
       "      <th>like</th>\n",
       "      <th>prob</th>\n",
       "      <th>met</th>\n",
       "      <th>averagescore</th>\n",
       "    </tr>\n",
       "  </thead>\n",
       "  <tbody>\n",
       "    <tr>\n",
       "      <th>0</th>\n",
       "      <td>1</td>\n",
       "      <td>1</td>\n",
       "      <td>0</td>\n",
       "      <td>11.0</td>\n",
       "      <td>1</td>\n",
       "      <td>4</td>\n",
       "      <td>0</td>\n",
       "      <td>2.0</td>\n",
       "      <td>21.0</td>\n",
       "      <td>27.0</td>\n",
       "      <td>6.0</td>\n",
       "      <td>9.0</td>\n",
       "      <td>7.0</td>\n",
       "      <td>7.0</td>\n",
       "      <td>5.0</td>\n",
       "      <td>6.0</td>\n",
       "      <td>7.0</td>\n",
       "      <td>6.0</td>\n",
       "      <td>2.0</td>\n",
       "      <td>6.666667</td>\n",
       "    </tr>\n",
       "    <tr>\n",
       "      <th>1</th>\n",
       "      <td>1</td>\n",
       "      <td>1</td>\n",
       "      <td>0</td>\n",
       "      <td>12.0</td>\n",
       "      <td>1</td>\n",
       "      <td>3</td>\n",
       "      <td>0</td>\n",
       "      <td>2.0</td>\n",
       "      <td>21.0</td>\n",
       "      <td>22.0</td>\n",
       "      <td>7.0</td>\n",
       "      <td>8.0</td>\n",
       "      <td>7.0</td>\n",
       "      <td>8.0</td>\n",
       "      <td>6.0</td>\n",
       "      <td>5.0</td>\n",
       "      <td>7.0</td>\n",
       "      <td>5.0</td>\n",
       "      <td>1.0</td>\n",
       "      <td>6.833333</td>\n",
       "    </tr>\n",
       "    <tr>\n",
       "      <th>2</th>\n",
       "      <td>1</td>\n",
       "      <td>1</td>\n",
       "      <td>0</td>\n",
       "      <td>13.0</td>\n",
       "      <td>1</td>\n",
       "      <td>10</td>\n",
       "      <td>1</td>\n",
       "      <td>2.0</td>\n",
       "      <td>21.0</td>\n",
       "      <td>22.0</td>\n",
       "      <td>5.0</td>\n",
       "      <td>8.0</td>\n",
       "      <td>9.0</td>\n",
       "      <td>8.0</td>\n",
       "      <td>7.0</td>\n",
       "      <td>5.0</td>\n",
       "      <td>7.0</td>\n",
       "      <td>NaN</td>\n",
       "      <td>1.0</td>\n",
       "      <td>7.000000</td>\n",
       "    </tr>\n",
       "    <tr>\n",
       "      <th>3</th>\n",
       "      <td>1</td>\n",
       "      <td>1</td>\n",
       "      <td>0</td>\n",
       "      <td>14.0</td>\n",
       "      <td>1</td>\n",
       "      <td>5</td>\n",
       "      <td>0</td>\n",
       "      <td>2.0</td>\n",
       "      <td>21.0</td>\n",
       "      <td>23.0</td>\n",
       "      <td>7.0</td>\n",
       "      <td>6.0</td>\n",
       "      <td>8.0</td>\n",
       "      <td>7.0</td>\n",
       "      <td>8.0</td>\n",
       "      <td>6.0</td>\n",
       "      <td>7.0</td>\n",
       "      <td>6.0</td>\n",
       "      <td>2.0</td>\n",
       "      <td>7.000000</td>\n",
       "    </tr>\n",
       "    <tr>\n",
       "      <th>4</th>\n",
       "      <td>1</td>\n",
       "      <td>1</td>\n",
       "      <td>0</td>\n",
       "      <td>15.0</td>\n",
       "      <td>1</td>\n",
       "      <td>7</td>\n",
       "      <td>0</td>\n",
       "      <td>2.0</td>\n",
       "      <td>21.0</td>\n",
       "      <td>24.0</td>\n",
       "      <td>5.0</td>\n",
       "      <td>6.0</td>\n",
       "      <td>7.0</td>\n",
       "      <td>7.0</td>\n",
       "      <td>6.0</td>\n",
       "      <td>6.0</td>\n",
       "      <td>6.0</td>\n",
       "      <td>6.0</td>\n",
       "      <td>2.0</td>\n",
       "      <td>6.166667</td>\n",
       "    </tr>\n",
       "  </tbody>\n",
       "</table>\n",
       "</div>"
      ],
      "text/plain": [
       "   wave  iid  gender   pid  dec  order  samerace  imprace   age  age_o  attr  \\\n",
       "0     1    1       0  11.0    1      4         0      2.0  21.0   27.0   6.0   \n",
       "1     1    1       0  12.0    1      3         0      2.0  21.0   22.0   7.0   \n",
       "2     1    1       0  13.0    1     10         1      2.0  21.0   22.0   5.0   \n",
       "3     1    1       0  14.0    1      5         0      2.0  21.0   23.0   7.0   \n",
       "4     1    1       0  15.0    1      7         0      2.0  21.0   24.0   5.0   \n",
       "\n",
       "   sinc  intel  fun  shar  amb  like  prob  met  averagescore  \n",
       "0   9.0    7.0  7.0   5.0  6.0   7.0   6.0  2.0      6.666667  \n",
       "1   8.0    7.0  8.0   6.0  5.0   7.0   5.0  1.0      6.833333  \n",
       "2   8.0    9.0  8.0   7.0  5.0   7.0   NaN  1.0      7.000000  \n",
       "3   6.0    8.0  7.0   8.0  6.0   7.0   6.0  2.0      7.000000  \n",
       "4   6.0    7.0  7.0   6.0  6.0   6.0   6.0  2.0      6.166667  "
      ]
     },
     "execution_count": 94,
     "metadata": {},
     "output_type": "execute_result"
    }
   ],
   "source": [
    "df.head(5)"
   ]
  },
  {
   "cell_type": "code",
   "execution_count": 99,
   "metadata": {
    "collapsed": false
   },
   "outputs": [
    {
     "data": {
      "text/plain": [
       "<matplotlib.axes._subplots.AxesSubplot at 0x258128d0>"
      ]
     },
     "execution_count": 99,
     "metadata": {},
     "output_type": "execute_result"
    },
    {
     "data": {
      "image/png": "[encoded data removed]",
      "text/plain": [
       "<matplotlib.figure.Figure at 0x2616f4e0>"
      ]
     },
     "metadata": {},
     "output_type": "display_data"
    }
   ],
   "source": [
    "color_wheel = {0: \"red\",\n",
    "               1: \"green\"}\n",
    "\n",
    "color = df.dec.map(color_wheel)\n",
    "df.plot(kind = \"scatter\", x = \"averagescore\", y = \"averagescore\", c = color)"
   ]
  },
  {
   "cell_type": "markdown",
   "metadata": {
    "collapsed": true
   },
   "source": [
    "Observation: The Yes decision not highly correlated with the average score"
   ]
  }
 ],
 "metadata": {
  "anaconda-cloud": {},
  "celltoolbar": "Raw Cell Format",
  "kernelspec": {
   "display_name": "Python [conda root]",
   "language": "python",
   "name": "conda-root-py"
  },
  "language_info": {
   "codemirror_mode": {
    "name": "ipython",
    "version": 2
   },
   "file_extension": ".py",
   "mimetype": "text/x-python",
   "name": "python",
   "nbconvert_exporter": "python",
   "pygments_lexer": "ipython2",
   "version": "2.7.12"
  }
 },
 "nbformat": 4,
 "nbformat_minor": 0
}
